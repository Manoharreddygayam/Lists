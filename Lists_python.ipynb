{
  "nbformat": 4,
  "nbformat_minor": 0,
  "metadata": {
    "colab": {
      "provenance": []
    },
    "kernelspec": {
      "name": "python3",
      "display_name": "Python 3"
    },
    "language_info": {
      "name": "python"
    }
  },
  "cells": [
    {
      "cell_type": "markdown",
      "source": [
        "#List\n",
        "##-> it is collection of different data type values\n",
        "##-> list is denoted with [ ]\n",
        "##-> list is index based and it supports slicing\n",
        "##-> list is imutable"
      ],
      "metadata": {
        "id": "VhWbLC_Lx7q8"
      }
    },
    {
      "cell_type": "code",
      "execution_count": null,
      "metadata": {
        "colab": {
          "base_uri": "https://localhost:8080/"
        },
        "id": "GdDhiu7VxQwU",
        "outputId": "e3d17298-2ca8-455a-f1dc-07a205fe3103"
      },
      "outputs": [
        {
          "output_type": "stream",
          "name": "stdout",
          "text": [
            "[1, 2, 3, 100, 'a', 'b', 23.5, 1, 2]\n"
          ]
        }
      ],
      "source": [
        "lst=[1,2,3,'hi','a','b',23.5,1,2]\n",
        "lst[3]=100\n",
        "print(lst)"
      ]
    },
    {
      "cell_type": "markdown",
      "source": [
        "##-> creating empty list"
      ],
      "metadata": {
        "id": "AEuNRjZoy8my"
      }
    },
    {
      "cell_type": "code",
      "source": [
        "lst=[]\n",
        "lst1=list()\n",
        "print(type(lst))\n",
        "print(type(lst1))"
      ],
      "metadata": {
        "colab": {
          "base_uri": "https://localhost:8080/"
        },
        "id": "zoei3Ftbyf3K",
        "outputId": "870ff998-2669-4514-9004-65ebdf3fcc5c"
      },
      "execution_count": null,
      "outputs": [
        {
          "output_type": "stream",
          "name": "stdout",
          "text": [
            "<class 'list'>\n",
            "<class 'list'>\n"
          ]
        }
      ]
    },
    {
      "cell_type": "markdown",
      "source": [
        "##-> string to list type conversion"
      ],
      "metadata": {
        "id": "QpMRay0pzR-W"
      }
    },
    {
      "cell_type": "code",
      "source": [
        "s='Manohar'\n",
        "l=list(s)\n",
        "print(type(s),type(l))\n",
        "print(l)"
      ],
      "metadata": {
        "colab": {
          "base_uri": "https://localhost:8080/"
        },
        "id": "h2LzNrGKzJqR",
        "outputId": "d10ae825-2c38-412e-bbe2-361b7b3f784e"
      },
      "execution_count": null,
      "outputs": [
        {
          "output_type": "stream",
          "name": "stdout",
          "text": [
            "<class 'str'> <class 'list'>\n",
            "['M', 'a', 'n', 'o', 'h', 'a', 'r']\n"
          ]
        }
      ]
    },
    {
      "cell_type": "markdown",
      "source": [
        "##-> Reading list of integers from user"
      ],
      "metadata": {
        "id": "kG_5BnDEzyMD"
      }
    },
    {
      "cell_type": "code",
      "source": [
        "lst=list(map(int,input().split()))\n",
        "print(lst)"
      ],
      "metadata": {
        "colab": {
          "base_uri": "https://localhost:8080/"
        },
        "id": "om5N6_FYzhqC",
        "outputId": "43d82557-9fd1-4c4a-c96f-b06347b65407"
      },
      "execution_count": null,
      "outputs": [
        {
          "output_type": "stream",
          "name": "stdout",
          "text": [
            "10\n",
            "[10]\n"
          ]
        }
      ]
    },
    {
      "cell_type": "markdown",
      "source": [
        "##-> Reading list of string from user"
      ],
      "metadata": {
        "id": "61axP8Sg0O3H"
      }
    },
    {
      "cell_type": "code",
      "source": [
        "lst=list(map(str,input().split()))\n",
        "print(lst)"
      ],
      "metadata": {
        "colab": {
          "base_uri": "https://localhost:8080/"
        },
        "id": "avUwtvbV0DIX",
        "outputId": "0f512007-60e3-4bbf-ea6f-6989dcbe3c9a"
      },
      "execution_count": null,
      "outputs": [
        {
          "output_type": "stream",
          "name": "stdout",
          "text": [
            "name\n",
            "['name']\n"
          ]
        }
      ]
    },
    {
      "cell_type": "markdown",
      "source": [
        "##-> Reading list of float from user"
      ],
      "metadata": {
        "id": "mu7y3R-60jvA"
      }
    },
    {
      "cell_type": "code",
      "source": [
        "lst=list(map(float,input().split()))\n",
        "print(lst)"
      ],
      "metadata": {
        "colab": {
          "base_uri": "https://localhost:8080/"
        },
        "id": "FUqSLLAq0b01",
        "outputId": "821887d3-c648-4c12-cdd5-f7d9a9da3e93"
      },
      "execution_count": null,
      "outputs": [
        {
          "output_type": "stream",
          "name": "stdout",
          "text": [
            "23.5\n",
            "[23.5]\n"
          ]
        }
      ]
    },
    {
      "cell_type": "markdown",
      "source": [
        "##-> List concatination"
      ],
      "metadata": {
        "id": "YabTgOYS03i6"
      }
    },
    {
      "cell_type": "code",
      "source": [
        "l1=[1,2,3]\n",
        "l2=[4,5,6]\n",
        "print(l1+l2)\n"
      ],
      "metadata": {
        "colab": {
          "base_uri": "https://localhost:8080/"
        },
        "id": "-DixYbVf0x6N",
        "outputId": "81df66bf-7cfb-4ead-8bbc-9e4f99534640"
      },
      "execution_count": null,
      "outputs": [
        {
          "output_type": "stream",
          "name": "stdout",
          "text": [
            "[1, 2, 3, 4, 5, 6]\n"
          ]
        }
      ]
    },
    {
      "cell_type": "code",
      "source": [
        "l1=[1,2,3]\n",
        "l2=list([45])\n",
        "print(l1+l2)"
      ],
      "metadata": {
        "colab": {
          "base_uri": "https://localhost:8080/"
        },
        "id": "hPcF6XDj1Cgj",
        "outputId": "3ea26d52-476d-461f-d731-9d0aa924e26a"
      },
      "execution_count": null,
      "outputs": [
        {
          "output_type": "stream",
          "name": "stdout",
          "text": [
            "[1, 2, 3, 45]\n"
          ]
        }
      ]
    },
    {
      "cell_type": "markdown",
      "source": [
        "##-> List repitation using *"
      ],
      "metadata": {
        "id": "afS9Gnuv1NGG"
      }
    },
    {
      "cell_type": "code",
      "source": [
        "l1=[1,2,3]\n",
        "print(l1 * 3)"
      ],
      "metadata": {
        "colab": {
          "base_uri": "https://localhost:8080/"
        },
        "id": "cFr-FHVP1KEp",
        "outputId": "93c5fc74-6a5c-40ac-93f9-194af83a6bf5"
      },
      "execution_count": null,
      "outputs": [
        {
          "output_type": "stream",
          "name": "stdout",
          "text": [
            "[1, 2, 3, 1, 2, 3, 1, 2, 3]\n"
          ]
        }
      ]
    },
    {
      "cell_type": "markdown",
      "source": [
        "# List Methods\n",
        "##-> append(value)- it add the single value at end of list"
      ],
      "metadata": {
        "id": "gVQpaLHJ3V3h"
      }
    },
    {
      "cell_type": "code",
      "source": [
        "l=[1,2,3,2.3,'a','b',1,2,3]\n",
        "l.append(100)\n",
        "print(\"after append operation:\",l)"
      ],
      "metadata": {
        "colab": {
          "base_uri": "https://localhost:8080/"
        },
        "id": "Q_ijNoU51YtG",
        "outputId": "bf84e0e9-36b8-4535-afb4-c5f9a6358ee1"
      },
      "execution_count": null,
      "outputs": [
        {
          "output_type": "stream",
          "name": "stdout",
          "text": [
            "after append operation: [1, 2, 3, 2.3, 'a', 'b', 1, 2, 3, 100]\n"
          ]
        }
      ]
    },
    {
      "cell_type": "markdown",
      "source": [
        "##-> extend(iterable)-it add the iterable values at end of list"
      ],
      "metadata": {
        "id": "uM23Zp1-4Anf"
      }
    },
    {
      "cell_type": "code",
      "source": [
        "l=[1,2,3,2.3,'a','b',1,2,3]\n",
        "l.extend([200,300])\n",
        "print(\"after extend operation:\",l)"
      ],
      "metadata": {
        "colab": {
          "base_uri": "https://localhost:8080/"
        },
        "outputId": "8ba2d6b1-88af-44fe-ebfd-a08d3cf37b13",
        "id": "Tll-zhDo4QOS"
      },
      "execution_count": null,
      "outputs": [
        {
          "output_type": "stream",
          "name": "stdout",
          "text": [
            "after extend operation: [1, 2, 3, 2.3, 'a', 'b', 1, 2, 3, 200, 300]\n"
          ]
        }
      ]
    },
    {
      "cell_type": "markdown",
      "source": [
        "##-> insert(position,value)- add the value at specified position and followed values are right shifted"
      ],
      "metadata": {
        "id": "zyVuEs7N4iQr"
      }
    },
    {
      "cell_type": "code",
      "source": [
        "l=[1,2,3,2.3,'a','b',1,2,3]\n",
        "l.insert(4,'codegnan')\n",
        "print(\"after insert operation:\",l)"
      ],
      "metadata": {
        "colab": {
          "base_uri": "https://localhost:8080/"
        },
        "id": "TenuD43d4aTx",
        "outputId": "ccb85bcd-6447-445d-ff2b-e8079202d2e0"
      },
      "execution_count": null,
      "outputs": [
        {
          "output_type": "stream",
          "name": "stdout",
          "text": [
            "after insert operation: [1, 2, 3, 2.3, 'codegnan', 'a', 'b', 1, 2, 3]\n"
          ]
        }
      ]
    },
    {
      "cell_type": "markdown",
      "source": [
        "##-> remove(value)- it removes the value at first occurance position\n",
        "##-> pop()- returns and removes the pop value as per specified position, otherwise pops the last value\n",
        "##-> clear()=- removes the all elements from list\n",
        "##-> del- removes the list"
      ],
      "metadata": {
        "id": "7PKuB-my5HEH"
      }
    },
    {
      "cell_type": "code",
      "source": [
        "l=[1, 2, 3, 2.3, 'codegnan', 'a', 'b', 1, 2, 3]\n",
        "print(\"original list:\",l)"
      ],
      "metadata": {
        "colab": {
          "base_uri": "https://localhost:8080/"
        },
        "id": "GJuUzr274_jk",
        "outputId": "f3ac2583-6c61-4fe4-8d6c-390f0d3499df"
      },
      "execution_count": null,
      "outputs": [
        {
          "output_type": "stream",
          "name": "stdout",
          "text": [
            "original list: [1, 2, 3, 2.3, 'codegnan', 'a', 'b', 1, 2, 3]\n"
          ]
        }
      ]
    },
    {
      "cell_type": "code",
      "source": [
        "l.remove(3)\n",
        "print(\"after remove operation:\",l)"
      ],
      "metadata": {
        "colab": {
          "base_uri": "https://localhost:8080/"
        },
        "id": "nplaFiBh6Iyn",
        "outputId": "72f3d701-5be0-45a0-a2e8-d265b8457000"
      },
      "execution_count": null,
      "outputs": [
        {
          "output_type": "stream",
          "name": "stdout",
          "text": [
            "after remove operation: [1, 2, 2.3, 'codegnan', 'a', 'b', 1, 2, 3]\n"
          ]
        }
      ]
    },
    {
      "cell_type": "code",
      "source": [
        "l.pop()\n",
        "print(\"after pop operation:\",l)\n",
        "l.pop(3)\n",
        "print(\"after pop operation:\",l)"
      ],
      "metadata": {
        "colab": {
          "base_uri": "https://localhost:8080/"
        },
        "id": "zO2WJbyd6SUR",
        "outputId": "8ee502d4-604e-4d97-e2db-52b441206cea"
      },
      "execution_count": null,
      "outputs": [
        {
          "output_type": "stream",
          "name": "stdout",
          "text": [
            "after pop operation: [1, 2, 2.3, 'codegnan', 'a', 'b', 1, 2]\n",
            "after pop operation: [1, 2, 2.3, 'a', 'b', 1, 2]\n"
          ]
        }
      ]
    },
    {
      "cell_type": "code",
      "source": [
        "del l[0]\n",
        "del l[2:5]\n",
        "print(\"after del operation:\",l)"
      ],
      "metadata": {
        "colab": {
          "base_uri": "https://localhost:8080/"
        },
        "id": "CJXg3IMS6fi7",
        "outputId": "da223065-a15d-4b31-8b5b-87cf7bd21ee1"
      },
      "execution_count": null,
      "outputs": [
        {
          "output_type": "stream",
          "name": "stdout",
          "text": [
            "after del operation: [2, 2.3, 2]\n"
          ]
        }
      ]
    },
    {
      "cell_type": "code",
      "source": [
        "l.clear()\n",
        "print(\"after clear operation:\",l)"
      ],
      "metadata": {
        "colab": {
          "base_uri": "https://localhost:8080/"
        },
        "id": "sH_fWynj6019",
        "outputId": "fd539041-c3f2-402b-a827-2fa300badbac"
      },
      "execution_count": null,
      "outputs": [
        {
          "output_type": "stream",
          "name": "stdout",
          "text": [
            "after clear operation: []\n"
          ]
        }
      ]
    },
    {
      "cell_type": "markdown",
      "source": [
        "##-> min(list_name)- returns the min value from the list\n",
        "##-> max(list_name)- returns the max value from the list\n",
        "##-> sum(list_name)- sums the all elements in the list"
      ],
      "metadata": {
        "id": "GDqCBAxV7UMl"
      }
    },
    {
      "cell_type": "code",
      "source": [
        "l=[1,2,3,45,34,233]\n",
        "min_val=min(l)\n",
        "max_val=max(l)\n",
        "sum_val=sum(l)\n",
        "print(\"min value:\", min_val)\n",
        "print(\"max value:\", max_val)\n",
        "print(\"sum value:\", sum_val)"
      ],
      "metadata": {
        "colab": {
          "base_uri": "https://localhost:8080/"
        },
        "id": "rZdj3pFG7Odi",
        "outputId": "7295c9d7-42ce-4db9-97ae-1157f46bfb4c"
      },
      "execution_count": null,
      "outputs": [
        {
          "output_type": "stream",
          "name": "stdout",
          "text": [
            "min value: 1\n",
            "max value: 233\n",
            "sum value: 318\n"
          ]
        }
      ]
    },
    {
      "cell_type": "markdown",
      "source": [
        "##-> reverse()- it reverse the original list"
      ],
      "metadata": {
        "id": "h3duq5AT8bHZ"
      }
    },
    {
      "cell_type": "code",
      "source": [
        "l=[1,2,3,45,34,233]\n",
        "l.reverse()\n",
        "print(\"reverse of list:\",l)"
      ],
      "metadata": {
        "colab": {
          "base_uri": "https://localhost:8080/"
        },
        "id": "7uV2E_c48U8Z",
        "outputId": "e72a6c56-d9a2-4094-969f-5e3f7010f999"
      },
      "execution_count": null,
      "outputs": [
        {
          "output_type": "stream",
          "name": "stdout",
          "text": [
            "reverse of list: [233, 34, 45, 3, 2, 1]\n"
          ]
        }
      ]
    },
    {
      "cell_type": "code",
      "source": [
        "#sort()\n",
        "#asscending order sort\n",
        "l=[1,2,29,43,3,10,200]\n",
        "l.sort()\n",
        "print(l)"
      ],
      "metadata": {
        "id": "iRS-yRdS8rea",
        "colab": {
          "base_uri": "https://localhost:8080/"
        },
        "outputId": "36df082d-d7c2-4b7b-c9e8-b1b16a4d5469"
      },
      "execution_count": null,
      "outputs": [
        {
          "output_type": "stream",
          "name": "stdout",
          "text": [
            "[1, 2, 3, 10, 29, 43, 200]\n"
          ]
        }
      ]
    },
    {
      "cell_type": "code",
      "source": [
        "#descending order sort\n",
        "l=[1,2,29,43,3,10,200]\n",
        "l.sort(reverse=True)\n",
        "print(l)"
      ],
      "metadata": {
        "colab": {
          "base_uri": "https://localhost:8080/"
        },
        "id": "MBOMKk3VFdEG",
        "outputId": "65dbae74-1935-46fc-a3c6-acbd1b6286f4"
      },
      "execution_count": null,
      "outputs": [
        {
          "output_type": "stream",
          "name": "stdout",
          "text": [
            "[200, 43, 29, 10, 3, 2, 1]\n"
          ]
        }
      ]
    },
    {
      "cell_type": "code",
      "source": [
        "#sorted()-it sort the list in perticular order and it returns new sorted list of values\n",
        "l=[1,2,29,43,3,10,200]\n",
        "new_list=sorted(l)\n",
        "print(new_list)"
      ],
      "metadata": {
        "colab": {
          "base_uri": "https://localhost:8080/"
        },
        "id": "_Q7nL7XWFvPW",
        "outputId": "78062673-3b2b-4b2a-954a-f2dd7033cd50"
      },
      "execution_count": null,
      "outputs": [
        {
          "output_type": "stream",
          "name": "stdout",
          "text": [
            "[1, 2, 3, 10, 29, 43, 200]\n"
          ]
        }
      ]
    },
    {
      "cell_type": "code",
      "source": [
        "#count(value),index(value)\n",
        "l=[1,2,3,10,29,43,200,23,2,3,2]\n",
        "count_2=l.count(2)\n",
        "print(\"total 2 element count:\",count_2)\n",
        "ind=(l.index(29))\n",
        "print(\"29 value index:\",ind)"
      ],
      "metadata": {
        "colab": {
          "base_uri": "https://localhost:8080/"
        },
        "id": "9SQWjKpoGGk0",
        "outputId": "4a590e1d-eed6-4f99-ed09-5ec20f1f2767"
      },
      "execution_count": null,
      "outputs": [
        {
          "output_type": "stream",
          "name": "stdout",
          "text": [
            "total 2 element count: 3\n",
            "29 value index: 4\n"
          ]
        }
      ]
    },
    {
      "cell_type": "code",
      "source": [
        "#len(list_name)\n",
        "l=[1,2,3,10,29,43,200,23,2,3,2]\n",
        "lenth=len(l)\n",
        "print(lenth)"
      ],
      "metadata": {
        "colab": {
          "base_uri": "https://localhost:8080/"
        },
        "id": "onlQRUa5GrSY",
        "outputId": "6a096130-961a-4842-cb0e-3a4a220ca8a0"
      },
      "execution_count": null,
      "outputs": [
        {
          "output_type": "stream",
          "name": "stdout",
          "text": [
            "11\n"
          ]
        }
      ]
    },
    {
      "cell_type": "code",
      "source": [],
      "metadata": {
        "id": "0mQ54VpcHM9Z"
      },
      "execution_count": null,
      "outputs": []
    }
  ]
}